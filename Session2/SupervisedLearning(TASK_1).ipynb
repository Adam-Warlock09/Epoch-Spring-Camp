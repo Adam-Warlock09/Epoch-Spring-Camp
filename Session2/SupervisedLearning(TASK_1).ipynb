{
  "cells": [
    {
      "cell_type": "markdown",
      "metadata": {
        "id": "h3hRqI_vmn2u"
      },
      "source": [
        "## Generating Numpy arrays of data (Preprocessing)"
      ]
    },
    {
      "cell_type": "code",
      "execution_count": null,
      "metadata": {
        "id": "1qyb4mEsMEas"
      },
      "outputs": [],
      "source": [
        "import numpy as np\n",
        "\n",
        "data = [\n",
        "    [12.0, 1.5, 1, 'Wine'],\n",
        "    [5.0, 2.0, 0, 'Beer'],\n",
        "    [40.0, 0.0, 1, 'Whiskey'],\n",
        "    [13.5, 1.2, 1, 'Wine'],\n",
        "    [4.5, 1.8, 0, 'Beer'],\n",
        "    [38.0, 0.1, 1, 'Whiskey'],\n",
        "    [11.5, 1.7, 1, 'Wine'],\n",
        "    [5.5, 2.3, 0, 'Beer']\n",
        "]\n",
        "\n",
        "labelMap = {\"Wine\": 0, \"Beer\": 1, \"Whiskey\": 2}\n",
        "inverseLabelMap = {labelMap[key]: key for key in labelMap}\n",
        "\n",
        "y = np.array([labelMap[row[-1]] for row in data])\n",
        "X = np.array([row[:-1] for row in data], dtype=float)"
      ]
    },
    {
      "cell_type": "markdown",
      "metadata": {
        "id": "ElP6E4aWoyFP"
      },
      "source": [
        "## Creating the GINI impurity calculation function"
      ]
    },
    {
      "cell_type": "code",
      "execution_count": 28,
      "metadata": {
        "id": "noOMUbHCmsSX"
      },
      "outputs": [],
      "source": [
        "def giniImpurity(labels):\n",
        "  counter = {key: 0 for key in list(set(labels))}\n",
        "  for i in labels:\n",
        "    counter[i] += 1\n",
        "  return 1 - sum(((count / len(labels)) ** 2) for count in counter.values())"
      ]
    },
    {
      "cell_type": "markdown",
      "metadata": {
        "id": "Q5bRttW3yzL3"
      },
      "source": [
        "## Make the bestSplit function to identify the optimal feature and threshold to minimize weighted gini impurity of the left and right tree branches hence generated"
      ]
    },
    {
      "cell_type": "code",
      "execution_count": 29,
      "metadata": {
        "id": "qd8RIhWfy-zE"
      },
      "outputs": [],
      "source": [
        "def bestSplit(featureMatrix, labelArray):\n",
        "  minGINI = 1\n",
        "  bestThreshold = None\n",
        "  bestFeature = None\n",
        "\n",
        "  for feature in range(len(featureMatrix[0])):\n",
        "\n",
        "    thresholds = np.unique(featureMatrix[:, feature])\n",
        "\n",
        "    for threshold in thresholds:\n",
        "\n",
        "      leftLabels = labelArray[featureMatrix[:, feature] <= threshold]\n",
        "      rightLabels = labelArray[featureMatrix[:, feature] > threshold]\n",
        "\n",
        "      if len(leftLabels) == 0 or len(rightLabels) == 0:\n",
        "        continue\n",
        "\n",
        "      giniLeft = giniImpurity(leftLabels)\n",
        "      giniRight = giniImpurity(rightLabels)\n",
        "\n",
        "      weightedGINI = (len(leftLabels) / len(labelArray)) * giniLeft + (len(rightLabels) / len(labelArray)) * giniRight\n",
        "\n",
        "      if weightedGINI < minGINI:\n",
        "        minGINI = weightedGINI\n",
        "        bestThreshold = threshold\n",
        "        bestFeature = feature\n",
        "\n",
        "  return bestFeature, bestThreshold"
      ]
    },
    {
      "cell_type": "markdown",
      "metadata": {
        "id": "KbpW1YCS1m4o"
      },
      "source": [
        "## Making the decision binary tree recursively by using the bestSplit function to make branches"
      ]
    },
    {
      "cell_type": "code",
      "execution_count": 38,
      "metadata": {
        "id": "DYVusq6Y2Kb4"
      },
      "outputs": [],
      "source": [
        "class Node:\n",
        "  def __init__(self, feature_index=None, threshold=None, left=None, right=None, value=None):\n",
        "    self.feature_index = feature_index\n",
        "    self.threshold = threshold\n",
        "    self.left = left\n",
        "    self.right = right\n",
        "    self.value = value # Only for leaf nodes\n",
        "\n",
        "def mostCommonLabel(labels): # Find mode of the set of labels\n",
        "  counter = {key: 0 for key in list(set(labels))}\n",
        "  for i in labels:\n",
        "    counter[i] += 1\n",
        "  return max(counter, key=counter.get)\n",
        "\n",
        "def buildTree(featureMatrix, labelArray, depth=0, maxDepth=3, minSamplesToSplit=2):\n",
        "  if len(set(labelArray)) == 1 or len(labelArray) < minSamplesToSplit or depth >= maxDepth:\n",
        "      leafValue = mostCommonLabel(labelArray)\n",
        "      return Node(value=leafValue)\n",
        "\n",
        "  bestFeature, bestThreshold = bestSplit(featureMatrix, labelArray)\n",
        "\n",
        "  if bestFeature is None:\n",
        "    leafValue = mostCommonLabel(labelArray)\n",
        "    return Node(value=leafValue)\n",
        "\n",
        "  leftIndices = featureMatrix[:, bestFeature] <= bestThreshold\n",
        "  rightIndices = ~leftIndices\n",
        "\n",
        "  leftFeatureMatrix, leftLabelArray = featureMatrix[leftIndices], labelArray[leftIndices]\n",
        "  rightFeatureMatrix, rightLabelArray = featureMatrix[rightIndices], labelArray[rightIndices]\n",
        "\n",
        "  leftNode = buildTree(featureMatrix=leftFeatureMatrix, labelArray=leftLabelArray, depth=depth+1)\n",
        "  rightNode = buildTree(featureMatrix=rightFeatureMatrix, labelArray=rightLabelArray, depth=depth+1)\n",
        "\n",
        "  return Node(\n",
        "      feature_index=bestFeature,\n",
        "      threshold=bestThreshold,\n",
        "      left=leftNode,\n",
        "      right=rightNode\n",
        "  )"
      ]
    },
    {
      "cell_type": "markdown",
      "metadata": {
        "id": "pKOmvHgd-_xs"
      },
      "source": [
        "## We implement prediction function by traversing the tree recursively to predict the Label of a input record"
      ]
    },
    {
      "cell_type": "code",
      "execution_count": 39,
      "metadata": {
        "id": "ytwauypF_jMZ"
      },
      "outputs": [],
      "source": [
        "def predict(node, record):\n",
        "  if node.value is not None: # Node is a leaf node\n",
        "    return node.value\n",
        "  if record[node.feature_index] <= node.threshold:\n",
        "    return predict(node.left, record)\n",
        "  else:\n",
        "    return predict(node.right, record)"
      ]
    },
    {
      "cell_type": "markdown",
      "metadata": {
        "id": "X5fKO8OMAGGd"
      },
      "source": [
        "## Evaluate the decision tree model with the training and test datasets"
      ]
    },
    {
      "cell_type": "code",
      "execution_count": null,
      "metadata": {
        "colab": {
          "base_uri": "https://localhost:8080/"
        },
        "id": "KBVnP_jRAiTq",
        "outputId": "3fc5e2fa-30ea-4399-de69-73a2047fe939"
      },
      "outputs": [
        {
          "name": "stdout",
          "output_type": "stream",
          "text": [
            "Prediction for :  [12.0, 1.5, 1]  is :  Wine\n",
            "Actual Label :  Wine\n",
            "Prediction for :  [5.0, 2.0, 0]  is :  Beer\n",
            "Actual Label :  Beer\n",
            "Prediction for :  [40.0, 0.0, 1]  is :  Whiskey\n",
            "Actual Label :  Whiskey\n",
            "Prediction for :  [13.5, 1.2, 1]  is :  Wine\n",
            "Actual Label :  Wine\n",
            "Prediction for :  [4.5, 1.8, 0]  is :  Beer\n",
            "Actual Label :  Beer\n",
            "Prediction for :  [38.0, 0.1, 1]  is :  Whiskey\n",
            "Actual Label :  Whiskey\n",
            "Prediction for :  [11.5, 1.7, 1]  is :  Wine\n",
            "Actual Label :  Wine\n",
            "Prediction for :  [5.5, 2.3, 0]  is :  Beer\n",
            "Actual Label :  Beer\n",
            "Error Percentage :  0.0 %\n",
            "Prediction for :  [6.0, 2.1, 0]  is :  Wine\n",
            "Actual Label :  Beer\n",
            "Prediction for :  [39.0, 0.05, 1]  is :  Whiskey\n",
            "Actual Label :  Whiskey\n",
            "Prediction for :  [13.0, 1.3, 1]  is :  Wine\n",
            "Actual Label :  Wine\n",
            "Error Percentage :  12.5 %\n"
          ]
        }
      ],
      "source": [
        "# We build the model using the functions\n",
        "\n",
        "decisionTree = buildTree(featureMatrix=X, labelArray=y)\n",
        "\n",
        "# Evaluating on training set\n",
        "\n",
        "error = 0\n",
        "for record in data:\n",
        "  prediction = predict(decisionTree, record[:-1])\n",
        "  print(\"Prediction for : \", record[:-1], \" is : \", inverseLabelMap[prediction])\n",
        "  print(\"Actual Label : \", record[-1])\n",
        "  error += (0 if inverseLabelMap[prediction] == record[-1] else 1)\n",
        "print(\"Error Percentage : \", error/len(data) * 100, \"%\")\n",
        "\n",
        "# Evaluating on test set\n",
        "\n",
        "test_data = [\n",
        "    [6.0, 2.1, 0],   # Expected: Beer\n",
        "    [39.0, 0.05, 1], # Expected: Whiskey\n",
        "    [13.0, 1.3, 1]   # Expected: Wine\n",
        "]\n",
        "\n",
        "answers = [\"Beer\", \"Whiskey\", \"Wine\"]\n",
        "\n",
        "error = 0\n",
        "for i,record in enumerate(test_data):\n",
        "  prediction = predict(decisionTree, record)\n",
        "  print(\"Prediction for : \", record, \" is : \", inverseLabelMap[prediction])\n",
        "  print(\"Actual Label : \", answers[i])\n",
        "  error += (0 if inverseLabelMap[prediction] == answers[i] else 1)\n",
        "print(\"Error Percentage : \", error/len(data) * 100, \"%\")"
      ]
    },
    {
      "cell_type": "markdown",
      "metadata": {
        "id": "wE2_EJDXI0LI"
      },
      "source": [
        "## Visualize the decision tree better for debigging purposes"
      ]
    },
    {
      "cell_type": "code",
      "execution_count": 42,
      "metadata": {
        "colab": {
          "base_uri": "https://localhost:8080/"
        },
        "id": "NB0-r621HxA3",
        "outputId": "4edc0870-68c9-427a-ca95-ef354d63fc11"
      },
      "outputs": [
        {
          "name": "stdout",
          "output_type": "stream",
          "text": [
            "If feature[0] <= 5.5:\n",
            "  Predict Beer\n",
            "Else:\n",
            "  If feature[0] <= 13.5:\n",
            "    Predict Wine\n",
            "  Else:\n",
            "    Predict Whiskey\n"
          ]
        }
      ],
      "source": [
        "def print_tree(node, spacing=\"\"):\n",
        "    if node.value is not None:\n",
        "        print(spacing + \"Predict\", inverseLabelMap[node.value])\n",
        "        return\n",
        "\n",
        "    print(spacing + f\"If feature[{node.feature_index}] <= {node.threshold}:\")\n",
        "    print_tree(node.left, spacing + \"  \")\n",
        "    print(spacing + f\"Else:\")\n",
        "    print_tree(node.right, spacing + \"  \")\n",
        "\n",
        "print_tree(decisionTree)"
      ]
    },
    {
      "cell_type": "markdown",
      "metadata": {
        "id": "A_8iXd2tJkBO"
      },
      "source": [
        "## Optional : Use entropy criterion instead of gini"
      ]
    },
    {
      "cell_type": "code",
      "execution_count": 43,
      "metadata": {
        "id": "F9dRU1ucJpVM"
      },
      "outputs": [],
      "source": [
        "from math import log2\n",
        "def entropyImpurity(labels):\n",
        "  total = len(labels)\n",
        "  if total == 0:\n",
        "    return 0\n",
        "  counter = {key: 0 for key in list(set(labels))}\n",
        "  for i in labels:\n",
        "    counter[i] += 1\n",
        "  return -sum((count / total) * log2(count / total) for count in counter.values() if count > 0)"
      ]
    },
    {
      "cell_type": "markdown",
      "metadata": {
        "id": "TpF69erZMRwC"
      },
      "source": [
        "## We rewrite the bestSplit function to take input for which impurity criteria to use"
      ]
    },
    {
      "cell_type": "code",
      "execution_count": 44,
      "metadata": {
        "id": "9kqfHkinMXfT"
      },
      "outputs": [],
      "source": [
        "def bestSplit(featureMatrix, labelArray, criterion=\"gini\"):\n",
        "  minGINI = 1\n",
        "  bestThreshold = None\n",
        "  bestFeature = None\n",
        "\n",
        "  for feature in range(len(featureMatrix[0])):\n",
        "\n",
        "    thresholds = np.unique(featureMatrix[:, feature])\n",
        "\n",
        "    for threshold in thresholds:\n",
        "\n",
        "      leftLabels = labelArray[featureMatrix[:, feature] <= threshold]\n",
        "      rightLabels = labelArray[featureMatrix[:, feature] > threshold]\n",
        "\n",
        "      if len(leftLabels) == 0 or len(rightLabels) == 0:\n",
        "        continue\n",
        "\n",
        "      if criterion == \"gini\":\n",
        "        giniLeft = giniImpurity(leftLabels)\n",
        "        giniRight = giniImpurity(rightLabels)\n",
        "      else:\n",
        "        giniLeft = entropyImpurity(leftLabels)\n",
        "        giniRight = entropyImpurity(rightLabels)\n",
        "\n",
        "      weightedGINI = (len(leftLabels) / len(labelArray)) * giniLeft + (len(rightLabels) / len(labelArray)) * giniRight\n",
        "\n",
        "      if weightedGINI < minGINI:\n",
        "        minGINI = weightedGINI\n",
        "        bestThreshold = threshold\n",
        "        bestFeature = feature\n",
        "\n",
        "  return bestFeature, bestThreshold"
      ]
    },
    {
      "cell_type": "markdown",
      "metadata": {
        "id": "sMNl_0o-NCKE"
      },
      "source": [
        "## We now use this to build our decision tree :"
      ]
    },
    {
      "cell_type": "code",
      "execution_count": 46,
      "metadata": {
        "id": "4C1MqhCyNGa2"
      },
      "outputs": [],
      "source": [
        "class Node:\n",
        "  def __init__(self, feature_index=None, threshold=None, left=None, right=None, value=None):\n",
        "    self.feature_index = feature_index\n",
        "    self.threshold = threshold\n",
        "    self.left = left\n",
        "    self.right = right\n",
        "    self.value = value # Only for leaf nodes\n",
        "\n",
        "def mostCommonLabel(labels): # Find mode of the set of labels\n",
        "  counter = {key: 0 for key in list(set(labels))}\n",
        "  for i in labels:\n",
        "    counter[i] += 1\n",
        "  return max(counter, key=counter.get)\n",
        "\n",
        "def buildTree(featureMatrix, labelArray, depth=0, maxDepth=3, minSamplesToSplit=2):\n",
        "  if len(set(labelArray)) == 1 or len(labelArray) < minSamplesToSplit or depth >= maxDepth:\n",
        "      leafValue = mostCommonLabel(labelArray)\n",
        "      return Node(value=leafValue)\n",
        "\n",
        "  bestFeature, bestThreshold = bestSplit(featureMatrix, labelArray)\n",
        "\n",
        "  if bestFeature is None:\n",
        "    leafValue = mostCommonLabel(labelArray)\n",
        "    return Node(value=leafValue)\n",
        "\n",
        "  leftIndices = featureMatrix[:, bestFeature] <= bestThreshold\n",
        "  rightIndices = ~leftIndices\n",
        "\n",
        "  leftFeatureMatrix, leftLabelArray = featureMatrix[leftIndices], labelArray[leftIndices]\n",
        "  rightFeatureMatrix, rightLabelArray = featureMatrix[rightIndices], labelArray[rightIndices]\n",
        "\n",
        "  leftNode = buildTree(featureMatrix=leftFeatureMatrix, labelArray=leftLabelArray, depth=depth+1)\n",
        "  rightNode = buildTree(featureMatrix=rightFeatureMatrix, labelArray=rightLabelArray, depth=depth+1)\n",
        "\n",
        "  return Node(\n",
        "      feature_index=bestFeature,\n",
        "      threshold=bestThreshold,\n",
        "      left=leftNode,\n",
        "      right=rightNode\n",
        "  )"
      ]
    },
    {
      "cell_type": "markdown",
      "metadata": {
        "id": "hG3eMpGIOOay"
      },
      "source": [
        "## We evaluate our model made on the entropy criterion"
      ]
    },
    {
      "cell_type": "code",
      "execution_count": 48,
      "metadata": {
        "colab": {
          "base_uri": "https://localhost:8080/"
        },
        "id": "cbnZEGY9PLPc",
        "outputId": "87298831-c429-494e-ef2f-5b203148e9b9"
      },
      "outputs": [
        {
          "name": "stdout",
          "output_type": "stream",
          "text": [
            "Prediction for :  [12.0, 1.5, 1]  is :  Wine\n",
            "Actual Label :  Wine\n",
            "Prediction for :  [5.0, 2.0, 0]  is :  Beer\n",
            "Actual Label :  Beer\n",
            "Prediction for :  [40.0, 0.0, 1]  is :  Whiskey\n",
            "Actual Label :  Whiskey\n",
            "Prediction for :  [13.5, 1.2, 1]  is :  Wine\n",
            "Actual Label :  Wine\n",
            "Prediction for :  [4.5, 1.8, 0]  is :  Beer\n",
            "Actual Label :  Beer\n",
            "Prediction for :  [38.0, 0.1, 1]  is :  Whiskey\n",
            "Actual Label :  Whiskey\n",
            "Prediction for :  [11.5, 1.7, 1]  is :  Wine\n",
            "Actual Label :  Wine\n",
            "Prediction for :  [5.5, 2.3, 0]  is :  Beer\n",
            "Actual Label :  Beer\n",
            "Error Percentage :  0.0 %\n",
            "Prediction for :  [6.0, 2.1, 0]  is :  Wine\n",
            "Actual Label :  Beer\n",
            "Prediction for :  [39.0, 0.05, 1]  is :  Whiskey\n",
            "Actual Label :  Whiskey\n",
            "Prediction for :  [13.0, 1.3, 1]  is :  Wine\n",
            "Actual Label :  Wine\n",
            "Error Percentage :  33.33333333333333 %\n"
          ]
        }
      ],
      "source": [
        "from types import CoroutineType\n",
        "# We build the model using the functions\n",
        "\n",
        "decisionTree = buildTree(featureMatrix=features, labelArray=labels, )\n",
        "\n",
        "# Evaluating on training set\n",
        "\n",
        "error = 0\n",
        "for record in data:\n",
        "  prediction = predict(decisionTree, record[:-1])\n",
        "  print(\"Prediction for : \", record[:-1], \" is : \", inverseLabelMap[prediction])\n",
        "  print(\"Actual Label : \", record[-1])\n",
        "  error += (0 if inverseLabelMap[prediction] == record[-1] else 1)\n",
        "print(\"Error Percentage : \", error/len(data) * 100, \"%\")\n",
        "\n",
        "# Evaluating on test set\n",
        "\n",
        "test_data = [\n",
        "    [6.0, 2.1, 0],   # Expected: Beer\n",
        "    [39.0, 0.05, 1], # Expected: Whiskey\n",
        "    [13.0, 1.3, 1]   # Expected: Wine\n",
        "]\n",
        "\n",
        "answers = [\"Beer\", \"Whiskey\", \"Wine\"]\n",
        "\n",
        "error = 0\n",
        "for i,record in enumerate(test_data):\n",
        "  prediction = predict(decisionTree, record)\n",
        "  print(\"Prediction for : \", record, \" is : \", inverseLabelMap[prediction])\n",
        "  print(\"Actual Label : \", answers[i])\n",
        "  error += (0 if inverseLabelMap[prediction] == answers[i] else 1)\n",
        "print(\"Error Percentage : \", error/len(test_data) * 100, \"%\")"
      ]
    },
    {
      "cell_type": "markdown",
      "metadata": {
        "id": "s5GQLwxIRSam"
      },
      "source": [
        "## Printing the tree to visualize\n"
      ]
    },
    {
      "cell_type": "code",
      "execution_count": 49,
      "metadata": {
        "colab": {
          "base_uri": "https://localhost:8080/"
        },
        "id": "dvQsuSjNRVK8",
        "outputId": "b12276c5-6005-4930-b6ad-a796e9e1226e"
      },
      "outputs": [
        {
          "name": "stdout",
          "output_type": "stream",
          "text": [
            "If feature[0] <= 5.5:\n",
            "  Predict Beer\n",
            "Else:\n",
            "  If feature[0] <= 13.5:\n",
            "    Predict Wine\n",
            "  Else:\n",
            "    Predict Whiskey\n"
          ]
        }
      ],
      "source": [
        "def print_tree(node, spacing=\"\"):\n",
        "    if node.value is not None:\n",
        "        print(spacing + \"Predict\", inverseLabelMap[node.value])\n",
        "        return\n",
        "\n",
        "    print(spacing + f\"If feature[{node.feature_index}] <= {node.threshold}:\")\n",
        "    print_tree(node.left, spacing + \"  \")\n",
        "    print(spacing + f\"Else:\")\n",
        "    print_tree(node.right, spacing + \"  \")\n",
        "\n",
        "print_tree(decisionTree)"
      ]
    }
  ],
  "metadata": {
    "colab": {
      "provenance": []
    },
    "kernelspec": {
      "display_name": "Python 3",
      "name": "python3"
    },
    "language_info": {
      "name": "python"
    }
  },
  "nbformat": 4,
  "nbformat_minor": 0
}
